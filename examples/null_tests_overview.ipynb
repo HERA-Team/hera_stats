{
 "cells": [
  {
   "cell_type": "code",
   "execution_count": 1,
   "metadata": {},
   "outputs": [
    {
     "name": "stderr",
     "output_type": "stream",
     "text": [
      "/users/drocha/Python/lib/python2.7/site-packages/h5py/__init__.py:36: FutureWarning: Conversion of the second argument of issubdtype from `float` to `np.floating` is deprecated. In future, it will be treated as `np.float64 == np.dtype(float).type`.\n",
      "  from ._conv import register_converters as _register_converters\n"
     ]
    }
   ],
   "source": [
    "import hera_stats as hs\n",
    "from hera_stats.data import DATA_PATH\n",
    "import matplotlib.pyplot as plt\n",
    "import numpy as np\n",
    "import scipy.stats as spstats\n",
    "import os"
   ]
  },
  {
   "cell_type": "code",
   "execution_count": 2,
   "metadata": {},
   "outputs": [
    {
     "name": "stdout",
     "output_type": "stream",
     "text": [
      "(IDR2_1)\n",
      "  |--zen.grp1.of1.xx.LST.1.08784.uvOCRSDL.h5\n",
      "  |--zen.grp1.of1.xx.LST.1.18179.uvOCRSDL.h5\n",
      "\n"
     ]
    }
   ],
   "source": [
    "# First, load data from a pspec container\n",
    "pc = hs.PSpecContainer(os.path.join(DATA_PATH, \"uvp_data.h5\"), \"rw\")\n",
    "print pc.tree()"
   ]
  },
  {
   "cell_type": "code",
   "execution_count": 3,
   "metadata": {},
   "outputs": [
    {
     "data": {
      "text/plain": [
       "[<hera_pspec.uvpspec.UVPSpec at 0x7f4440eb8410>,\n",
       " <hera_pspec.uvpspec.UVPSpec at 0x7f446f4871d0>]"
      ]
     },
     "execution_count": 3,
     "metadata": {},
     "output_type": "execute_result"
    }
   ],
   "source": [
    "# Get UVPSpecs\n",
    "uvp_list = pc.get_pspec(\"IDR2_1\")\n",
    "uvp_list"
   ]
  },
  {
   "cell_type": "code",
   "execution_count": 4,
   "metadata": {},
   "outputs": [
    {
     "name": "stdout",
     "output_type": "stream",
     "text": [
      "uvp 0 and 1 are concatable across blpairts axis\n",
      "(40, 2)\n"
     ]
    }
   ],
   "source": [
    "# Split into random antenna groups\n",
    "spl_ants = hs.jackknives.split_ants(uvp_list, n_jacks=40)\n",
    "print np.array(spl_ants).shape\n"
   ]
  },
  {
   "cell_type": "code",
   "execution_count": 5,
   "metadata": {},
   "outputs": [
    {
     "name": "stdout",
     "output_type": "stream",
     "text": [
      "Group 1 ants: [0, 1, 11, 12, 13, 25, 26, 37, 38, 41, 50, 52, 53, 70, 71] \n",
      "Group 2 ants: [2, 14, 23, 24, 27, 36, 39, 51, 54, 55, 65, 66, 67, 68, 69]\n"
     ]
    }
   ],
   "source": [
    "# Displaying antenna groups that were randomly selected\n",
    "sp1 = spl_ants[0]\n",
    "grp1 = sorted(sp1[0].labels)\n",
    "grp2 = sorted(sp1[1].labels)\n",
    "print \"Group 1 ants: %s \\nGroup 2 ants: %s\" % (grp1, grp2)"
   ]
  },
  {
   "cell_type": "code",
   "execution_count": 6,
   "metadata": {},
   "outputs": [
    {
     "name": "stdout",
     "output_type": "stream",
     "text": [
      "Group 1 Nblpairs: 15 \n",
      "Group 2 Nblpairs: 15\n"
     ]
    }
   ],
   "source": [
    "# Show the number of baseline pairs in each group\n",
    "blpairs = [s.Nblpairs for s in sp1]\n",
    "\n",
    "print \"Group 1 Nblpairs: %s \\nGroup 2 Nblpairs: %s\" % tuple(blpairs)"
   ]
  },
  {
   "cell_type": "code",
   "execution_count": 7,
   "metadata": {},
   "outputs": [
    {
     "name": "stdout",
     "output_type": "stream",
     "text": [
      "uvp 0 and 1 are concatable across blpairts axis\n"
     ]
    }
   ],
   "source": [
    "# Split into striped times\n",
    "str_times = hs.jackknives.stripe_times(uvp_list)"
   ]
  },
  {
   "cell_type": "code",
   "execution_count": 8,
   "metadata": {},
   "outputs": [
    {
     "data": {
      "text/plain": [
       "<matplotlib.legend.Legend at 0x7f443f69f3d0>"
      ]
     },
     "execution_count": 8,
     "metadata": {},
     "output_type": "execute_result"
    },
    {
     "data": {
      "image/png": "[encoded data removed]",
      "text/plain": [
       "<Figure size 432x288 with 1 Axes>"
      ]
     },
     "metadata": {},
     "output_type": "display_data"
    }
   ],
   "source": [
    "# Plot the time_avg_arrays of each jackknife pair\n",
    "for y, jack_pair in enumerate(str_times):\n",
    "    for i, jack in enumerate(jack_pair):\n",
    "        times = np.unique(jack.time_avg_array)\n",
    "        plt.scatter(times, y * np.ones(len(times)), color=\"C%i\" % i)\n",
    "plt.ylabel(\"Jackknife Group Index\")\n",
    "plt.xlabel(\"Julday\")\n",
    "patches = [plt.scatter([], [], color=\"C0\"),\n",
    "           plt.scatter([], [], color=\"C1\")]\n",
    "plt.legend(patches, [\"Group 1\", \"Group 2\"], loc=2)"
   ]
  },
  {
   "cell_type": "code",
   "execution_count": 9,
   "metadata": {},
   "outputs": [
    {
     "name": "stdout",
     "output_type": "stream",
     "text": [
      "uvp 0 and 1 are concatable across blpairts axis\n"
     ]
    }
   ],
   "source": [
    "# Split into Galactic Hour Angle bins\n",
    "spl_gha = hs.jackknives.split_gha(uvp_list, bins_list=[20])"
   ]
  },
  {
   "cell_type": "code",
   "execution_count": 10,
   "metadata": {},
   "outputs": [
    {
     "name": "stdout",
     "output_type": "stream",
     "text": [
      "Group 0 gha: [229.7418155]\n",
      "Group 1 gha: [229.86601914]\n",
      "Group 2 gha: [229.95020423]\n",
      "Group 3 gha: [230.07851321]\n",
      "Group 4 gha: [230.20882042]\n",
      "Group 5 gha: [230.29700318]\n",
      "Group 6 gha: [230.38615463]\n",
      "Group 7 gha: [230.47626364]\n",
      "Group 8 gha: [230.61331588]\n",
      "Group 9 gha: [230.75223225]\n",
      "Group 10 gha: [230.84607029]\n",
      "Group 11 gha: [230.94081784]\n",
      "Group 12 gha: [231.03646659]\n",
      "Group 13 gha: [231.13300878]\n",
      "Group 14 gha: [231.23043704]\n",
      "Group 15 gha: [231.32874439]\n",
      "Group 16 gha: [231.42792424]\n",
      "Group 17 gha: [231.52797038]\n",
      "Group 18 gha: [231.62887695]\n",
      "Group 19 gha: [231.73063844]\n"
     ]
    }
   ],
   "source": [
    "sp1 = spl_gha[0]\n",
    "for i, u in enumerate(sp1):\n",
    "    grp = u.labels\n",
    "    print \"Group %i gha: %s\" % (i, grp)"
   ]
  },
  {
   "cell_type": "code",
   "execution_count": 11,
   "metadata": {},
   "outputs": [
    {
     "name": "stdout",
     "output_type": "stream",
     "text": [
      "uvp 0 and 1 are concatable across blpairts axis\n"
     ]
    }
   ],
   "source": [
    "# Omit antenna\n",
    "omit_ants = hs.jackknives.omit_ants(uvp_list)"
   ]
  },
  {
   "cell_type": "code",
   "execution_count": 12,
   "metadata": {},
   "outputs": [
    {
     "name": "stdout",
     "output_type": "stream",
     "text": [
      "Group 0, Antenna Ommited: 0\n",
      "Group 1, Antenna Ommited: 1\n",
      "Group 2, Antenna Ommited: 2\n",
      "Group 3, Antenna Ommited: 11\n",
      "Group 4, Antenna Ommited: 12\n",
      "Group 5, Antenna Ommited: 13\n",
      "Group 6, Antenna Ommited: 14\n",
      "Group 7, Antenna Ommited: 23\n",
      "Group 8, Antenna Ommited: 24\n",
      "Group 9, Antenna Ommited: 25\n",
      "Group 10, Antenna Ommited: 26\n",
      "Group 11, Antenna Ommited: 27\n",
      "Group 12, Antenna Ommited: 36\n",
      "Group 13, Antenna Ommited: 37\n",
      "Group 14, Antenna Ommited: 38\n",
      "Group 15, Antenna Ommited: 39\n",
      "Group 16, Antenna Ommited: 40\n",
      "Group 17, Antenna Ommited: 41\n",
      "Group 18, Antenna Ommited: 50\n",
      "Group 19, Antenna Ommited: 51\n",
      "Group 20, Antenna Ommited: 52\n",
      "Group 21, Antenna Ommited: 53\n",
      "Group 22, Antenna Ommited: 54\n",
      "Group 23, Antenna Ommited: 55\n",
      "Group 24, Antenna Ommited: 65\n",
      "Group 25, Antenna Ommited: 66\n",
      "Group 26, Antenna Ommited: 67\n",
      "Group 27, Antenna Ommited: 68\n",
      "Group 28, Antenna Ommited: 69\n",
      "Group 29, Antenna Ommited: 70\n",
      "Group 30, Antenna Ommited: 71\n"
     ]
    }
   ],
   "source": [
    "om1 = omit_ants[0]\n",
    "for i, o in enumerate(om1):\n",
    "    print \"Group %i, Antenna Ommited: %s\" % (i, o.labels[0])"
   ]
  },
  {
   "cell_type": "code",
   "execution_count": 13,
   "metadata": {},
   "outputs": [
    {
     "name": "stdout",
     "output_type": "stream",
     "text": [
      "Saving...\n",
      "Saving...\n",
      "Saving...\n",
      "Saving...\n"
     ]
    }
   ],
   "source": [
    "# Write to container\n",
    "pc_out = hs.PSpecContainer(\"uvp_jackknife.h5\", \"rw\")\n",
    "for jk in [spl_ants, spl_gha, omit_ants, str_times]:\n",
    "    print \"Saving...\"\n",
    "    jk_booted = hs.jackknives.bootstrap_jackknife(jk, \"xx\")\n",
    "    hs.jackknives.save_jackknife(pc_out, jk_booted, overwrite=True)"
   ]
  },
  {
   "cell_type": "code",
   "execution_count": 14,
   "metadata": {},
   "outputs": [],
   "source": [
    "pc.save()"
   ]
  }
 ],
 "metadata": {
  "kernelspec": {
   "display_name": "Python 2",
   "language": "python",
   "name": "python2"
  },
  "language_info": {
   "codemirror_mode": {
    "name": "ipython",
    "version": 2
   },
   "file_extension": ".py",
   "mimetype": "text/x-python",
   "name": "python",
   "nbconvert_exporter": "python",
   "pygments_lexer": "ipython2",
   "version": "2.7.10"
  }
 },
 "nbformat": 4,
 "nbformat_minor": 2
}
