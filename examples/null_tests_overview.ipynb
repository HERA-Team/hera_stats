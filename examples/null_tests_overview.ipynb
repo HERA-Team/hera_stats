{
 "cells": [
  {
   "cell_type": "code",
   "execution_count": 1,
   "metadata": {},
   "outputs": [],
   "source": [
    "%matplotlib inline\n",
    "import hera_stats as hs\n",
    "from hera_stats.data import DATA_PATH\n",
    "import matplotlib.pyplot as plt\n",
    "import numpy as np\n",
    "import scipy.stats as spstats\n",
    "import os"
   ]
  },
  {
   "cell_type": "code",
   "execution_count": 2,
   "metadata": {},
   "outputs": [
    {
     "name": "stdout",
     "output_type": "stream",
     "text": [
      "(IDR2_1)\n",
      "  |--zen.even.xx.LST.1.28828.uvOCRSA.h5\n",
      "  |--zen.odd.xx.LST.1.28828.uvOCRSA.h5\n",
      "\n"
     ]
    }
   ],
   "source": [
    "# First, load data from a pspec container\n",
    "pc = hs.PSpecContainer(os.path.join(DATA_PATH, \"uvp_data.h5\"), \"rw\")\n",
    "print pc.tree()"
   ]
  },
  {
   "cell_type": "code",
   "execution_count": 3,
   "metadata": {},
   "outputs": [
    {
     "data": {
      "text/plain": [
       "[<hera_pspec.uvpspec.UVPSpec at 0x10b605390>,\n",
       " <hera_pspec.uvpspec.UVPSpec at 0x107aa5950>]"
      ]
     },
     "execution_count": 3,
     "metadata": {},
     "output_type": "execute_result"
    }
   ],
   "source": [
    "# Get UVPSpecs\n",
    "uvp_list = pc.get_pspec(\"IDR2_1\")\n",
    "uvp_list"
   ]
  },
  {
   "cell_type": "code",
   "execution_count": 4,
   "metadata": {},
   "outputs": [
    {
     "name": "stdout",
     "output_type": "stream",
     "text": [
      "uvp 0 and 1 are concatable across blpairts axis\n",
      "(5, 2)\n"
     ]
    }
   ],
   "source": [
    "# Split into random antenna groups\n",
    "np.random.seed(0)\n",
    "spl_ants = hs.jackknives.split_ants(uvp_list, n_jacks=5)\n",
    "print np.array(spl_ants).shape\n"
   ]
  },
  {
   "cell_type": "code",
   "execution_count": 5,
   "metadata": {},
   "outputs": [
    {
     "name": "stdout",
     "output_type": "stream",
     "text": [
      "Group 1 ants: [38, 39, 53, 68, 69] \n",
      "Group 2 ants: [37, 51, 52, 54, 67]\n"
     ]
    }
   ],
   "source": [
    "# Displaying antenna groups that were randomly selected\n",
    "sp1 = spl_ants[0]\n",
    "grp1 = sorted(sp1[0].labels)\n",
    "grp2 = sorted(sp1[1].labels)\n",
    "print \"Group 1 ants: %s \\nGroup 2 ants: %s\" % (grp1, grp2)"
   ]
  },
  {
   "cell_type": "code",
   "execution_count": 6,
   "metadata": {},
   "outputs": [
    {
     "name": "stdout",
     "output_type": "stream",
     "text": [
      "Group 1 Nblpairs: 18 \n",
      "Group 2 Nblpairs: 18\n"
     ]
    }
   ],
   "source": [
    "# Show the number of baseline pairs in each group\n",
    "blpairs = [s.Nblpairs for s in sp1]\n",
    "\n",
    "print \"Group 1 Nblpairs: %s \\nGroup 2 Nblpairs: %s\" % tuple(blpairs)"
   ]
  },
  {
   "cell_type": "code",
   "execution_count": 7,
   "metadata": {},
   "outputs": [
    {
     "name": "stdout",
     "output_type": "stream",
     "text": [
      "uvp 0 and 1 are concatable across blpairts axis\n"
     ]
    }
   ],
   "source": [
    "# Split into striped times\n",
    "str_times = hs.jackknives.stripe_times(uvp_list)"
   ]
  },
  {
   "cell_type": "code",
   "execution_count": 8,
   "metadata": {},
   "outputs": [
    {
     "data": {
      "text/plain": [
       "<matplotlib.legend.Legend at 0x10ba0b690>"
      ]
     },
     "execution_count": 8,
     "metadata": {},
     "output_type": "execute_result"
    },
    {
     "data": {
      "image/png": "[encoded data removed]",
      "text/plain": [
       "<Figure size 432x288 with 1 Axes>"
      ]
     },
     "metadata": {},
     "output_type": "display_data"
    }
   ],
   "source": [
    "# Plot the time_avg_arrays of each jackknife pair\n",
    "for y, jack_pair in enumerate(str_times):\n",
    "    for i, jack in enumerate(jack_pair):\n",
    "        times = np.unique(jack.time_avg_array)\n",
    "        plt.scatter(times, y * np.ones(len(times)), color=\"C%i\" % i)\n",
    "plt.ylabel(\"Jackknife Group Index\")\n",
    "plt.xlabel(\"Julday\")\n",
    "patches = [plt.scatter([], [], color=\"C0\"),\n",
    "           plt.scatter([], [], color=\"C1\")]\n",
    "plt.legend(patches, [\"Group 1\", \"Group 2\"], loc=2)"
   ]
  },
  {
   "cell_type": "code",
   "execution_count": 9,
   "metadata": {},
   "outputs": [
    {
     "name": "stdout",
     "output_type": "stream",
     "text": [
      "uvp 0 and 1 are concatable across blpairts axis\n"
     ]
    }
   ],
   "source": [
    "# Split into Galactic Hour Angle bins\n",
    "spl_gha = hs.jackknives.split_gha(uvp_list, bins_list=[10])"
   ]
  },
  {
   "cell_type": "code",
   "execution_count": 10,
   "metadata": {},
   "outputs": [
    {
     "name": "stdout",
     "output_type": "stream",
     "text": [
      "Group 0 gha: [232.10924393]\n",
      "Group 1 gha: [232.13031217]\n",
      "Group 2 gha: [232.15141376]\n",
      "Group 3 gha: [232.17254862]\n",
      "Group 4 gha: [232.19371672]\n",
      "Group 5 gha: [232.21491805]\n",
      "Group 6 gha: [232.23615257]\n",
      "Group 7 gha: [232.25742025]\n",
      "Group 8 gha: [232.27872105]\n",
      "Group 9 gha: [232.30005492]\n"
     ]
    }
   ],
   "source": [
    "sp1 = spl_gha[0]\n",
    "for i, u in enumerate(sp1):\n",
    "    grp = u.labels\n",
    "    print \"Group %i gha: %s\" % (i, grp)"
   ]
  },
  {
   "cell_type": "code",
   "execution_count": 11,
   "metadata": {},
   "outputs": [
    {
     "name": "stdout",
     "output_type": "stream",
     "text": [
      "uvp 0 and 1 are concatable across blpairts axis\n"
     ]
    }
   ],
   "source": [
    "# Omit antenna\n",
    "omit_ants = hs.jackknives.omit_ants(uvp_list)"
   ]
  },
  {
   "cell_type": "code",
   "execution_count": 12,
   "metadata": {},
   "outputs": [
    {
     "name": "stdout",
     "output_type": "stream",
     "text": [
      "Group 0, Antenna Ommited: 37\n",
      "Group 1, Antenna Ommited: 38\n",
      "Group 2, Antenna Ommited: 39\n",
      "Group 3, Antenna Ommited: 51\n",
      "Group 4, Antenna Ommited: 52\n",
      "Group 5, Antenna Ommited: 53\n",
      "Group 6, Antenna Ommited: 54\n",
      "Group 7, Antenna Ommited: 67\n",
      "Group 8, Antenna Ommited: 68\n",
      "Group 9, Antenna Ommited: 69\n"
     ]
    }
   ],
   "source": [
    "om1 = omit_ants[0]\n",
    "for i, o in enumerate(om1):\n",
    "    print \"Group %i, Antenna Ommited: %s\" % (i, o.labels[0])"
   ]
  },
  {
   "cell_type": "code",
   "execution_count": null,
   "metadata": {
    "collapsed": true
   },
   "outputs": [],
   "source": []
  }
 ],
 "metadata": {
  "kernelspec": {
   "display_name": "Python 2",
   "language": "python",
   "name": "python2"
  },
  "language_info": {
   "codemirror_mode": {
    "name": "ipython",
    "version": 2
   },
   "file_extension": ".py",
   "mimetype": "text/x-python",
   "name": "python",
   "nbconvert_exporter": "python",
   "pygments_lexer": "ipython2",
   "version": "2.7.3"
  }
 },
 "nbformat": 4,
 "nbformat_minor": 2
}
