{
 "cells": [
  {
   "cell_type": "code",
   "execution_count": 1,
   "metadata": {},
   "outputs": [
    {
     "name": "stderr",
     "output_type": "stream",
     "text": [
      "/users/drocha/Python/lib/python2.7/site-packages/h5py/__init__.py:36: FutureWarning: Conversion of the second argument of issubdtype from `float` to `np.floating` is deprecated. In future, it will be treated as `np.float64 == np.dtype(float).type`.\n",
      "  from ._conv import register_converters as _register_converters\n"
     ]
    }
   ],
   "source": [
    "import hera_stats as hs\n",
    "import hera_pspec as hp\n",
    "import matplotlib.pyplot as plt\n",
    "import numpy as np\n",
    "import os\n",
    "from hera_stats.data import DATA_PATH"
   ]
  },
  {
   "cell_type": "code",
   "execution_count": 2,
   "metadata": {},
   "outputs": [],
   "source": [
    "# Settings:\n",
    "\n",
    "# Import settings\n",
    "container_path = os.path.join(DATA_PATH, \"uvp_data.h5\")\n",
    "pc_group = \"IDR2_1\"\n",
    "pc_psnames = None\n",
    "\n",
    "# Analysis settings\n",
    "n_bins = 20\n",
    "pol = \"xx\"\n",
    "\n",
    "# Output settings\n",
    "pc_out = hp.container.PSpecContainer(\"./jk_data.h5\", \"rw\")\n",
    "\n",
    "# PSpec settings\n",
    "sample_baseline = (0, 1)\n",
    "bl_tol = 0.1"
   ]
  },
  {
   "cell_type": "code",
   "execution_count": 3,
   "metadata": {},
   "outputs": [],
   "source": [
    "# Open container\n",
    "pc = hp.container.PSpecContainer(container_path)\n",
    "\n",
    "# Get pspecs from list or string\n",
    "if isinstance(pc_psnames, (tuple, list, np.ndarray)):\n",
    "    uvp_list = [pc.get_pspec(group=pc_group, psname=ps) for ps in pc_psnames]\n",
    "else:\n",
    "    uvp_list = pc.get_pspec(group=pc_group, psname=pc_psnames)"
   ]
  },
  {
   "cell_type": "code",
   "execution_count": 4,
   "metadata": {},
   "outputs": [
    {
     "name": "stdout",
     "output_type": "stream",
     "text": [
      "uvp 0 and 1 are concatable across blpairts axis\n"
     ]
    }
   ],
   "source": [
    "# Redundant baseline calculation, given the sample baseline in cell 2.\n",
    "uvp = hp.uvpspec.combine_uvpspec(uvp_list)\n",
    "\n",
    "# Get position and baseline information\n",
    "pos = uvp.get_ENU_bl_vecs()\n",
    "all_bls = [uvp.bl_to_antnums(b) for b in uvp.bl_array]\n",
    "dic = dict(zip(all_bls, pos))\n",
    "\n",
    "# Find baselines that match the sample_baseline vector very closely\n",
    "bls = []\n",
    "for b in all_bls:\n",
    "    if sum((dic[sample_baseline] - dic[b])**2) < bl_tol:\n",
    "        bls.append(b)\n",
    "    else:\n",
    "        print b"
   ]
  },
  {
   "cell_type": "code",
   "execution_count": 5,
   "metadata": {},
   "outputs": [],
   "source": [
    "sp_g = hs.jackknives.split_gha(uvp, [n_bins], bls=bls)"
   ]
  },
  {
   "cell_type": "code",
   "execution_count": 6,
   "metadata": {},
   "outputs": [],
   "source": [
    "sp_g = hs.jackknives.bootstrap_jackknife(sp_g, pol=pol)"
   ]
  },
  {
   "cell_type": "code",
   "execution_count": 7,
   "metadata": {},
   "outputs": [],
   "source": [
    "hs.jackknives.save_jackknife(pc_out, sp_g, overwrite=True)\n",
    "pc_out.save()"
   ]
  },
  {
   "cell_type": "code",
   "execution_count": 8,
   "metadata": {},
   "outputs": [
    {
     "data": {
      "text/plain": [
       "<hera_stats.jkset.JKSet instance at 0x7f7a519f6bd0>\n",
       "\n",
       "Jackknife Data\n",
       "--------------\n",
       "jktype: spl_gha\n",
       "data shape: (1, 20)"
      ]
     },
     "execution_count": 8,
     "metadata": {},
     "output_type": "execute_result"
    }
   ],
   "source": [
    "jk = hs.JKSet(sp_g, jktype=\"spl_gha\")\n",
    "zs = hs.stats.zscores(jk[0])\n",
    "jk"
   ]
  },
  {
   "cell_type": "code",
   "execution_count": 9,
   "metadata": {},
   "outputs": [],
   "source": [
    "def weightedsum(specs, errs, axis=1):\n",
    "    # Do weighted sum calculation\n",
    "    aerrs = 1. / np.sum(errs ** -2, axis=axis)\n",
    "    av = aerrs * np.sum(specs * errs**-2, axis=axis)\n",
    "    std = (aerrs * len(specs)) ** 0.5\n",
    "    \n",
    "    return av, std"
   ]
  },
  {
   "cell_type": "code",
   "execution_count": 10,
   "metadata": {},
   "outputs": [],
   "source": [
    "# Split delay spectrum into 4 equal parts, the outer 2 go to the \"wings\" array\n",
    "# and the center 2 go to the \"center\" array\n",
    "q1 = len(jk.dlys) // 4\n",
    "q2 = len(jk.dlys) - q1\n",
    "wings_i = np.arange(-q1, q1) % 100\n",
    "center_i = np.arange(q1, q2)\n",
    "\n",
    "wings = jk[0].spectra[:, wings_i]\n",
    "wings_e = jk[0].errs[:, wings_i]\n",
    "center = jk[0].spectra[:, center_i]\n",
    "center_e = jk[0].errs[:, center_i]"
   ]
  },
  {
   "cell_type": "code",
   "execution_count": 11,
   "metadata": {},
   "outputs": [],
   "source": [
    "# Weighted sum over the wings and center to get average over GHA\n",
    "wing_av, wing_std = weightedsum(wings, wings_e)\n",
    "cent_av, cent_std = weightedsum(center, center_e)"
   ]
  },
  {
   "cell_type": "code",
   "execution_count": 12,
   "metadata": {},
   "outputs": [],
   "source": [
    "# x-axis will be galactic hourangle\n",
    "angs = jk[0].grps.flatten().astype(float)"
   ]
  },
  {
   "cell_type": "code",
   "execution_count": 13,
   "metadata": {},
   "outputs": [
    {
     "data": {
      "text/plain": [
       "<matplotlib.legend.Legend at 0x7f7a50204910>"
      ]
     },
     "execution_count": 13,
     "metadata": {},
     "output_type": "execute_result"
    },
    {
     "data": {
      "image/png": "[encoded data removed]",
      "text/plain": [
       "<Figure size 432x288 with 1 Axes>"
      ]
     },
     "metadata": {},
     "output_type": "display_data"
    }
   ],
   "source": [
    "# Plot both as lines with error, to see if the wings are behavng wildly at any point.\n",
    "# (this could mean GHA-dependent signal.)\n",
    "e1 = plt.errorbar(angs, wing_av, wing_std)\n",
    "e2 = plt.errorbar(angs, cent_av, cent_std)\n",
    "plt.hlines(np.average(wing_av), min(angs), max(angs), color=\"C0\", linestyles=\"--\")\n",
    "plt.hlines(np.average(cent_av), min(angs), max(angs), color=\"C1\", linestyles=\"--\")\n",
    "\n",
    "plt.legend([e1, e2], [\"Outside the Peak\", \"Inside the Peak\"])"
   ]
  }
 ],
 "metadata": {
  "kernelspec": {
   "display_name": "Python 2",
   "language": "python",
   "name": "python2"
  },
  "language_info": {
   "codemirror_mode": {
    "name": "ipython",
    "version": 2
   },
   "file_extension": ".py",
   "mimetype": "text/x-python",
   "name": "python",
   "nbconvert_exporter": "python",
   "pygments_lexer": "ipython2",
   "version": "2.7.10"
  }
 },
 "nbformat": 4,
 "nbformat_minor": 2
}
